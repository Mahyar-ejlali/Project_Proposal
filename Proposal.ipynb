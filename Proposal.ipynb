{
 "cells": [
  {
   "cell_type": "markdown",
   "metadata": {},
   "source": [
    "# Project Overview"
   ]
  },
  {
   "cell_type": "markdown",
   "metadata": {},
   "source": [
    "I work for a railcar transportation Company and we own more than 80 facilities in the North America to repair and inspect our railcars. "
   ]
  },
  {
   "cell_type": "markdown",
   "metadata": {},
   "source": [
    "The “Labor Hours Estimation” will introduce a machine learning program that the Repair Shop managers could use to plan freight car work for each production line and manage the required labor hours in each day. Accurate labor hour estimation on average will mean that more cars could be in service and more labors and equipment could be utilized."
   ]
  },
  {
   "cell_type": "markdown",
   "metadata": {},
   "source": [
    "# Business Benefits"
   ]
  },
  {
   "cell_type": "markdown",
   "metadata": {},
   "source": [
    "A significant portion of the day to day scheduling effort could be eliminated by introducing a machine learning tool that estimates required labor house on each car. Such a report could improve Repair Shop metrics such as Utilization and Downtime."
   ]
  },
  {
   "cell_type": "markdown",
   "metadata": {},
   "source": [
    "# High-level data preparation"
   ]
  },
  {
   "cell_type": "markdown",
   "metadata": {},
   "source": [
    "Data will be collected of three areas that could impact the labor hour estimation:"
   ]
  },
  {
   "cell_type": "markdown",
   "metadata": {},
   "source": [
    "**1. Car Characteristics:** The design a car, age, mileage on the car, type of commodity that a railcar transfers. These variables are Repair Code, Equipment Type, Car Initial, and Unit Count."
   ]
  },
  {
   "cell_type": "markdown",
   "metadata": {},
   "source": [
    "**2. Repair Shop Characteristics:** The history of a shop and the amount of time that they spent to repair specific type of car and type of repair. These variables are Repair Entity Type Level 1 and Repair Entity ID. "
   ]
  },
  {
   "cell_type": "markdown",
   "metadata": {},
   "source": [
    "**3. Type of repair:** The complexity of a repair also can increase or decrease required labor hours. This variable is Repair Class."
   ]
  },
  {
   "cell_type": "code",
   "execution_count": 1,
   "metadata": {},
   "outputs": [
    {
     "data": {
      "text/html": [
       "<div>\n",
       "<style scoped>\n",
       "    .dataframe tbody tr th:only-of-type {\n",
       "        vertical-align: middle;\n",
       "    }\n",
       "\n",
       "    .dataframe tbody tr th {\n",
       "        vertical-align: top;\n",
       "    }\n",
       "\n",
       "    .dataframe thead th {\n",
       "        text-align: right;\n",
       "    }\n",
       "</style>\n",
       "<table border=\"1\" class=\"dataframe\">\n",
       "  <thead>\n",
       "    <tr style=\"text-align: right;\">\n",
       "      <th></th>\n",
       "      <th>Repair Entity Type Level 1</th>\n",
       "      <th>Repair Entity ID</th>\n",
       "      <th>Repair Code</th>\n",
       "      <th>Equipment Type</th>\n",
       "      <th>Car Initial</th>\n",
       "      <th>Unit Count</th>\n",
       "      <th>Repair Class</th>\n",
       "      <th>Labor Hours Per Event Total</th>\n",
       "    </tr>\n",
       "  </thead>\n",
       "  <tbody>\n",
       "    <tr>\n",
       "      <th>0</th>\n",
       "      <td>FMO</td>\n",
       "      <td>APLS</td>\n",
       "      <td>18</td>\n",
       "      <td>Doublestack</td>\n",
       "      <td>DTTX</td>\n",
       "      <td>1</td>\n",
       "      <td>I</td>\n",
       "      <td>61.129615</td>\n",
       "    </tr>\n",
       "    <tr>\n",
       "      <th>1</th>\n",
       "      <td>FMO</td>\n",
       "      <td>APLS</td>\n",
       "      <td>20</td>\n",
       "      <td>Doublestack</td>\n",
       "      <td>DTTX</td>\n",
       "      <td>1</td>\n",
       "      <td>I</td>\n",
       "      <td>55.443059</td>\n",
       "    </tr>\n",
       "    <tr>\n",
       "      <th>2</th>\n",
       "      <td>FMO</td>\n",
       "      <td>APLS</td>\n",
       "      <td>27</td>\n",
       "      <td>Doublestack</td>\n",
       "      <td>DTTX</td>\n",
       "      <td>5</td>\n",
       "      <td>I</td>\n",
       "      <td>201.854839</td>\n",
       "    </tr>\n",
       "    <tr>\n",
       "      <th>3</th>\n",
       "      <td>FMO</td>\n",
       "      <td>APLS</td>\n",
       "      <td>29</td>\n",
       "      <td>Doublestack</td>\n",
       "      <td>DTTX</td>\n",
       "      <td>5</td>\n",
       "      <td>I</td>\n",
       "      <td>166.376154</td>\n",
       "    </tr>\n",
       "    <tr>\n",
       "      <th>4</th>\n",
       "      <td>FMO</td>\n",
       "      <td>APLS</td>\n",
       "      <td>46</td>\n",
       "      <td>Doublestack</td>\n",
       "      <td>DTTX</td>\n",
       "      <td>1</td>\n",
       "      <td>I</td>\n",
       "      <td>67.427500</td>\n",
       "    </tr>\n",
       "  </tbody>\n",
       "</table>\n",
       "</div>"
      ],
      "text/plain": [
       "  Repair Entity Type Level 1 Repair Entity ID  Repair Code Equipment Type  \\\n",
       "0                        FMO             APLS           18    Doublestack   \n",
       "1                        FMO             APLS           20    Doublestack   \n",
       "2                        FMO             APLS           27    Doublestack   \n",
       "3                        FMO             APLS           29    Doublestack   \n",
       "4                        FMO             APLS           46    Doublestack   \n",
       "\n",
       "  Car Initial  Unit Count Repair Class  Labor Hours Per Event Total  \n",
       "0        DTTX           1            I                    61.129615  \n",
       "1        DTTX           1            I                    55.443059  \n",
       "2        DTTX           5            I                   201.854839  \n",
       "3        DTTX           5            I                   166.376154  \n",
       "4        DTTX           1            I                    67.427500  "
      ]
     },
     "execution_count": 1,
     "metadata": {},
     "output_type": "execute_result"
    }
   ],
   "source": [
    "import pandas as pd\n",
    "Repair_Data = pd.read_csv('Repair_Data.csv')\n",
    "Repair_Data.head()\n"
   ]
  },
  {
   "cell_type": "code",
   "execution_count": null,
   "metadata": {},
   "outputs": [],
   "source": []
  }
 ],
 "metadata": {
  "kernelspec": {
   "display_name": "Python 3",
   "language": "python",
   "name": "python3"
  },
  "language_info": {
   "codemirror_mode": {
    "name": "ipython",
    "version": 3
   },
   "file_extension": ".py",
   "mimetype": "text/x-python",
   "name": "python",
   "nbconvert_exporter": "python",
   "pygments_lexer": "ipython3",
   "version": "3.7.0"
  }
 },
 "nbformat": 4,
 "nbformat_minor": 2
}
